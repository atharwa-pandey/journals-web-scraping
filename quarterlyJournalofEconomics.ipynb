{
 "cells": [
  {
   "cell_type": "code",
   "execution_count": 1,
   "id": "initial_id",
   "metadata": {
    "ExecuteTime": {
     "end_time": "2023-09-02T12:30:53.947187Z",
     "start_time": "2023-09-02T12:30:53.901490Z"
    }
   },
   "outputs": [],
   "source": [
    "import rpa as r\n",
    "from bs4 import BeautifulSoup\n",
    "import csv\n",
    "import random\n",
    "import os\n",
    "import requests\n"
   ]
  },
  {
   "cell_type": "code",
   "execution_count": 2,
   "id": "1e6f38eb",
   "metadata": {},
   "outputs": [],
   "source": [
    "def make_directory(Volume,Issue):\n",
    "    directory = 'Volume ' + str(Volume) + ' Issue ' + str(Issue) + ' Year ' + str(Volume+1885)\n",
    "    # Parent Directory path \n",
    "    parent_dir = \"D:/Results/QuarterlyJournalOfEconomics\"\n",
    "    # Path \n",
    "    path = os.path.join(parent_dir, directory) \n",
    "  \n",
    "    # Create the directory \n",
    "    # 'Nikhil' \n",
    "    try: \n",
    "        os.makedirs(path, exist_ok = True) \n",
    "        print(\"Directory '%s' created successfully\" % directory) \n",
    "    except OSError as error: \n",
    "        print(\"Directory '%s' can not be created\" % directory) \n",
    "        \n",
    "    os.chdir(path)\n",
    "    print(os.getcwd())"
   ]
  },
  {
   "cell_type": "code",
   "execution_count": 8,
   "id": "9967c0638e2061aa",
   "metadata": {
    "ExecuteTime": {
     "end_time": "2023-09-02T15:58:58.236767Z",
     "start_time": "2023-09-02T15:58:58.226457Z"
    }
   },
   "outputs": [],
   "source": [
    "def get_content_from_url(url,Volume,Issue):\n",
    "    make_directory(Volume,Issue)\n",
    "    r.init()\n",
    "    r.url(url)\n",
    "    # r.wait(60)\n",
    "    r.wait(random.randrange(5,10,1))\n",
    "    html = r.read('page')\n",
    "    soup = BeautifulSoup(html, 'html.parser')\n",
    "    table = soup.find('div', attrs={'id': 'ContentColumn'})\n",
    "    r.close()\n",
    "    layer1 = table.find('div', attrs={'id': 'ArticleList'})\n",
    "    for articlesLink in layer1.find_all('a',attrs={'class':'at-articleLink'}):\n",
    "        #print(sections)\n",
    "        #headings = sections.find('h4',attrs={'class': 'title articleClientType act-header'})\n",
    "        #print(headings)\n",
    "        #for articlesLink in sections.find_all('a',attrs={'class':'at-articleLink'}):\n",
    "        print('hell')\n",
    "        content ={}\n",
    "        url2 = 'https://academic.oup.com/' + articlesLink.get('href')\n",
    "        print(url2)\n",
    "        r.init()\n",
    "        r.url(url2)\n",
    "        r.wait(random.randrange(5,10,1))\n",
    "        html2 = r.read('page')\n",
    "        r.close()\n",
    "        soup = BeautifulSoup(html2, 'html.parser')\n",
    "        table2 = soup.find('div', attrs={'id': 'ContentColumn'})\n",
    "        if (table2 == None):\n",
    "            print('table2 not found')\n",
    "            continue\n",
    "                    \n",
    "        journal_name = table2.find('h1',attrs={'class' : 'wi-article-title article-title-main accessible-content-title at-articleTitle'}).text.strip()\n",
    "        journal_name = journal_name.replace('?', '')\n",
    "        journal_name = journal_name.replace(':', '')\n",
    "        journal_name = journal_name.replace('/', '')\n",
    "        journal_name = journal_name.replace('\\n', '')\n",
    "        journal_name = journal_name.replace('*', '')\n",
    "        journal_name = journal_name.replace('-', '')\n",
    "        if(table2.find('a',attrs={'class':'al-link pdf article-pdfLink'})):\n",
    "                    \n",
    "            print(\"Downloading file: \", journal_name)\n",
    "            pdf = open(journal_name+\".pdf\", 'wb')\n",
    "            pdf.close()\n",
    "            pdf_url = 'https://academic.oup.com/'+table2.find('a',attrs={'class':'al-link pdf article-pdfLink'}).get('href')\n",
    "            r.init()\n",
    "            r.url(pdf_url)\n",
    "            r.wait(random.randrange(5,10,1))\n",
    "            #pdf = r.read('page')\n",
    "            pdf_url_main = r.url()\n",
    "                    #r.download(r.find(\"css=embed[type='application/pdf']\").get_attribute(\"src\"), save_as=journal_name+\".pdf\")\n",
    "                    #pdf_url2 = \n",
    "                    #print(pdf.find('embed', attrs={'type': 'application/pdf'}))\n",
    "                    \n",
    "            r.download(download_url = pdf_url_main , filename_to_save = journal_name+\".pdf\")\n",
    "            r.close()\n",
    "                    # Get response object for link\n",
    "            response = requests.get('https://academic.oup.com/'+table2.find('a',attrs={'class':'al-link pdf article-pdfLink'}).get('href'))\n",
    " \n",
    "                    # Write content in pdf file\n",
    "            print(\"File \", journal_name, \" downloaded\")\n",
    "                    \n",
    "        html_file = open(journal_name + '.txt', 'w', encoding=\"utf-8\") \n",
    "        html_file.write(table2.prettify())\n",
    "        html_file.close()\n",
    "    print('done')"
   ]
  },
  {
   "cell_type": "code",
   "execution_count": null,
   "id": "fab148ccd725a161",
   "metadata": {
    "ExecuteTime": {
     "end_time": "2023-09-02T12:31:01.563102Z",
     "start_time": "2023-09-02T12:31:01.558165Z"
    }
   },
   "outputs": [],
   "source": []
  },
  {
   "cell_type": "code",
   "execution_count": null,
   "id": "c9d8c464ce18ee5f",
   "metadata": {
    "ExecuteTime": {
     "end_time": "2023-09-02T18:33:36.127756Z",
     "start_time": "2023-09-02T18:33:36.120221Z"
    }
   },
   "outputs": [],
   "source": []
  },
  {
   "cell_type": "code",
   "execution_count": 17,
   "id": "6172f10d5c5249a3",
   "metadata": {
    "ExecuteTime": {
     "end_time": "2023-09-02T20:09:07.128730Z",
     "start_time": "2023-09-02T18:33:43.364766Z"
    },
    "scrolled": true
   },
   "outputs": [
    {
     "name": "stdout",
     "output_type": "stream",
     "text": [
      "Directory 'Volume 139 Issue 4 Year 2024' created successfully\n",
      "D:\\Results\\QuarterlyJournalOfEconomics\\Volume 139 Issue 4 Year 2024\n"
     ]
    },
    {
     "ename": "AttributeError",
     "evalue": "'NoneType' object has no attribute 'find'",
     "output_type": "error",
     "traceback": [
      "\u001b[1;31m---------------------------------------------------------------------------\u001b[0m",
      "\u001b[1;31mAttributeError\u001b[0m                            Traceback (most recent call last)",
      "Input \u001b[1;32mIn [17]\u001b[0m, in \u001b[0;36m<cell line: 1>\u001b[1;34m()\u001b[0m\n\u001b[0;32m      6\u001b[0m \u001b[38;5;28;01mfor\u001b[39;00m issue \u001b[38;5;129;01min\u001b[39;00m \u001b[38;5;28mrange\u001b[39m(y, \u001b[38;5;241m5\u001b[39m):\n\u001b[0;32m      7\u001b[0m    URL \u001b[38;5;241m=\u001b[39m \u001b[38;5;124m'\u001b[39m\u001b[38;5;124mhttps://academic.oup.com/qje/issue/\u001b[39m\u001b[38;5;124m'\u001b[39m \u001b[38;5;241m+\u001b[39m \u001b[38;5;28mstr\u001b[39m(volume) \u001b[38;5;241m+\u001b[39m \u001b[38;5;124m'\u001b[39m\u001b[38;5;124m/\u001b[39m\u001b[38;5;124m'\u001b[39m \u001b[38;5;241m+\u001b[39m \u001b[38;5;28mstr\u001b[39m(issue)\n\u001b[1;32m----> 8\u001b[0m    \u001b[43mget_content_from_url\u001b[49m\u001b[43m(\u001b[49m\u001b[43mURL\u001b[49m\u001b[43m,\u001b[49m\u001b[43mvolume\u001b[49m\u001b[43m,\u001b[49m\u001b[43missue\u001b[49m\u001b[43m)\u001b[49m\n",
      "Input \u001b[1;32mIn [8]\u001b[0m, in \u001b[0;36mget_content_from_url\u001b[1;34m(url, Volume, Issue)\u001b[0m\n\u001b[0;32m      9\u001b[0m table \u001b[38;5;241m=\u001b[39m soup\u001b[38;5;241m.\u001b[39mfind(\u001b[38;5;124m'\u001b[39m\u001b[38;5;124mdiv\u001b[39m\u001b[38;5;124m'\u001b[39m, attrs\u001b[38;5;241m=\u001b[39m{\u001b[38;5;124m'\u001b[39m\u001b[38;5;124mid\u001b[39m\u001b[38;5;124m'\u001b[39m: \u001b[38;5;124m'\u001b[39m\u001b[38;5;124mContentColumn\u001b[39m\u001b[38;5;124m'\u001b[39m})\n\u001b[0;32m     10\u001b[0m r\u001b[38;5;241m.\u001b[39mclose()\n\u001b[1;32m---> 11\u001b[0m layer1 \u001b[38;5;241m=\u001b[39m \u001b[43mtable\u001b[49m\u001b[38;5;241;43m.\u001b[39;49m\u001b[43mfind\u001b[49m(\u001b[38;5;124m'\u001b[39m\u001b[38;5;124mdiv\u001b[39m\u001b[38;5;124m'\u001b[39m, attrs\u001b[38;5;241m=\u001b[39m{\u001b[38;5;124m'\u001b[39m\u001b[38;5;124mid\u001b[39m\u001b[38;5;124m'\u001b[39m: \u001b[38;5;124m'\u001b[39m\u001b[38;5;124mArticleList\u001b[39m\u001b[38;5;124m'\u001b[39m})\n\u001b[0;32m     12\u001b[0m \u001b[38;5;28;01mfor\u001b[39;00m articlesLink \u001b[38;5;129;01min\u001b[39;00m layer1\u001b[38;5;241m.\u001b[39mfind_all(\u001b[38;5;124m'\u001b[39m\u001b[38;5;124ma\u001b[39m\u001b[38;5;124m'\u001b[39m,attrs\u001b[38;5;241m=\u001b[39m{\u001b[38;5;124m'\u001b[39m\u001b[38;5;124mclass\u001b[39m\u001b[38;5;124m'\u001b[39m:\u001b[38;5;124m'\u001b[39m\u001b[38;5;124mat-articleLink\u001b[39m\u001b[38;5;124m'\u001b[39m}):\n\u001b[0;32m     13\u001b[0m     \u001b[38;5;66;03m#print(sections)\u001b[39;00m\n\u001b[0;32m     14\u001b[0m     \u001b[38;5;66;03m#headings = sections.find('h4',attrs={'class': 'title articleClientType act-header'})\u001b[39;00m\n\u001b[0;32m     15\u001b[0m     \u001b[38;5;66;03m#print(headings)\u001b[39;00m\n\u001b[0;32m     16\u001b[0m     \u001b[38;5;66;03m#for articlesLink in sections.find_all('a',attrs={'class':'at-articleLink'}):\u001b[39;00m\n\u001b[0;32m     17\u001b[0m     \u001b[38;5;28mprint\u001b[39m(\u001b[38;5;124m'\u001b[39m\u001b[38;5;124mhell\u001b[39m\u001b[38;5;124m'\u001b[39m)\n",
      "\u001b[1;31mAttributeError\u001b[0m: 'NoneType' object has no attribute 'find'"
     ]
    }
   ],
   "source": [
    "\n",
    "\n",
    "for volume in range(139,140):\n",
    "    if volume == 139:\n",
    "        y = 4\n",
    "    else:\n",
    "        y = 1\n",
    "    for issue in range(y, 5):\n",
    "       URL = 'https://academic.oup.com/qje/issue/' + str(volume) + '/' + str(issue)\n",
    "       get_content_from_url(URL,volume,issue)\n",
    "\n",
    "\n",
    "\n",
    "# for volume in range(35,36):\n",
    "#    x = 13 \n",
    "#    if volume ==35:\n",
    "#         for issue in range(2, x):\n",
    "#             URL = 'https://academic.oup.com/rfs/issue/' + str(volume) + '/' + str(issue)+'?browseBy=volume'\n",
    "#             get_content_from_url(URL,content_list,volume,issue,csv_filename,header)\n",
    "#    else :\n",
    "#        for issue in range(1, x):\n",
    "#             URL = 'https://academic.oup.com/rfs/issue/' + str(volume) + '/' + str(issue)+'?browseBy=volume'\n",
    "#             get_content_from_url(URL,content_list,volume,issue,csv_filename,header)\n",
    "#        \n",
    "        \n"
   ]
  },
  {
   "cell_type": "code",
   "execution_count": null,
   "id": "45956357435fb21b",
   "metadata": {},
   "outputs": [],
   "source": [
    "\n",
    "    "
   ]
  }
 ],
 "metadata": {
  "kernelspec": {
   "display_name": "Python 3 (ipykernel)",
   "language": "python",
   "name": "python3"
  },
  "language_info": {
   "codemirror_mode": {
    "name": "ipython",
    "version": 3
   },
   "file_extension": ".py",
   "mimetype": "text/x-python",
   "name": "python",
   "nbconvert_exporter": "python",
   "pygments_lexer": "ipython3",
   "version": "3.9.12"
  }
 },
 "nbformat": 4,
 "nbformat_minor": 5
}
